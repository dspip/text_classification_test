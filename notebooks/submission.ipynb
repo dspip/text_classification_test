{
 "cells": [
  {
   "cell_type": "code",
   "execution_count": 1,
   "metadata": {},
   "outputs": [],
   "source": [
    "import sys\n",
    "from functools import partial\n",
    "from zipfile import ZipFile\n",
    "import pandas as pd\n",
    "sys.path.append('../src')\n",
    "%matplotlib inline"
   ]
  },
  {
   "cell_type": "code",
   "execution_count": 3,
   "metadata": {},
   "outputs": [
    {
     "data": {
      "text/html": [
       "<div>\n",
       "<style scoped>\n",
       "    .dataframe tbody tr th:only-of-type {\n",
       "        vertical-align: middle;\n",
       "    }\n",
       "\n",
       "    .dataframe tbody tr th {\n",
       "        vertical-align: top;\n",
       "    }\n",
       "\n",
       "    .dataframe thead th {\n",
       "        text-align: right;\n",
       "    }\n",
       "</style>\n",
       "<table border=\"1\" class=\"dataframe\">\n",
       "  <thead>\n",
       "    <tr style=\"text-align: right;\">\n",
       "      <th></th>\n",
       "      <th>id</th>\n",
       "      <th>label</th>\n",
       "      <th>content</th>\n",
       "    </tr>\n",
       "  </thead>\n",
       "  <tbody>\n",
       "    <tr>\n",
       "      <th>2756</th>\n",
       "      <td>21400</td>\n",
       "      <td>rsu</td>\n",
       "      <td>Exhibit 10.8 \\n\\nEmployee \\n\\n\\n\\nTHIS AGREEME...</td>\n",
       "    </tr>\n",
       "    <tr>\n",
       "      <th>128</th>\n",
       "      <td>01290</td>\n",
       "      <td>SPA</td>\n",
       "      <td>\\n\\n\\n  \\n\\n\\nExhibit 99.1\\n\\n  \\n\\n\\n\\n\\n  ...</td>\n",
       "    </tr>\n",
       "    <tr>\n",
       "      <th>4146</th>\n",
       "      <td>35300</td>\n",
       "      <td>rsu</td>\n",
       "      <td>\\n\\n\\n  \\n\\n\\n  \\n\\n\\n  \\n\\n\\nExhibit 10.2\\n...</td>\n",
       "    </tr>\n",
       "    <tr>\n",
       "      <th>2733</th>\n",
       "      <td>21170</td>\n",
       "      <td>rsu</td>\n",
       "      <td>* * *\\n\\nExhibit 10.1\\n\\n  \\n\\n\\n\\n\\nFEDERATED...</td>\n",
       "    </tr>\n",
       "    <tr>\n",
       "      <th>4136</th>\n",
       "      <td>35200</td>\n",
       "      <td>rsu</td>\n",
       "      <td>##### \\n\\nExhibit 10.4 \\n\\n\\nUNDER THE  \\nPHI,...</td>\n",
       "    </tr>\n",
       "    <tr>\n",
       "      <th>3394</th>\n",
       "      <td>27780</td>\n",
       "      <td>rsu</td>\n",
       "      <td>Exhibit 10.3 \\n\\n\\n\\nThis Restricted Stock Agr...</td>\n",
       "    </tr>\n",
       "    <tr>\n",
       "      <th>1066</th>\n",
       "      <td>05890</td>\n",
       "      <td>employment</td>\n",
       "      <td>\\n\\n\\n\\n\\n  \\n\\n\\nAGREEMENT entered into thi...</td>\n",
       "    </tr>\n",
       "    <tr>\n",
       "      <th>1652</th>\n",
       "      <td>11750</td>\n",
       "      <td>employment</td>\n",
       "      <td>\\n\\n\\n\\n\\nThis Employment Agreement (the “Ag...</td>\n",
       "    </tr>\n",
       "    <tr>\n",
       "      <th>2821</th>\n",
       "      <td>22050</td>\n",
       "      <td>rsu</td>\n",
       "      <td>Exhibit 10.6.3 \\n\\nLSI CORPORATION \\n\\n\\n\\nOn ...</td>\n",
       "    </tr>\n",
       "    <tr>\n",
       "      <th>2802</th>\n",
       "      <td>21860</td>\n",
       "      <td>rsu</td>\n",
       "      <td>Exhibit 10.19\\n\\nKANBAY INTERNATIONAL, INC.\\n\\...</td>\n",
       "    </tr>\n",
       "  </tbody>\n",
       "</table>\n",
       "</div>"
      ],
      "text/plain": [
       "         id       label                                            content\n",
       "2756  21400         rsu  Exhibit 10.8 \\n\\nEmployee \\n\\n\\n\\nTHIS AGREEME...\n",
       "128   01290         SPA    \\n\\n\\n  \\n\\n\\nExhibit 99.1\\n\\n  \\n\\n\\n\\n\\n  ...\n",
       "4146  35300         rsu    \\n\\n\\n  \\n\\n\\n  \\n\\n\\n  \\n\\n\\nExhibit 10.2\\n...\n",
       "2733  21170         rsu  * * *\\n\\nExhibit 10.1\\n\\n  \\n\\n\\n\\n\\nFEDERATED...\n",
       "4136  35200         rsu  ##### \\n\\nExhibit 10.4 \\n\\n\\nUNDER THE  \\nPHI,...\n",
       "3394  27780         rsu  Exhibit 10.3 \\n\\n\\n\\nThis Restricted Stock Agr...\n",
       "1066  05890  employment    \\n\\n\\n\\n\\n  \\n\\n\\nAGREEMENT entered into thi...\n",
       "1652  11750  employment    \\n\\n\\n\\n\\nThis Employment Agreement (the “Ag...\n",
       "2821  22050         rsu  Exhibit 10.6.3 \\n\\nLSI CORPORATION \\n\\n\\n\\nOn ...\n",
       "2802  21860         rsu  Exhibit 10.19\\n\\nKANBAY INTERNATIONAL, INC.\\n\\..."
      ]
     },
     "execution_count": 3,
     "metadata": {},
     "output_type": "execute_result"
    }
   ],
   "source": [
    "data = []\n",
    "with ZipFile(\"../data/data.zip\") as z:\n",
    "    for fname in z.namelist():\n",
    "        if not fname.endswith('.txt') or not fname.startswith('data'):\n",
    "            continue\n",
    "        content = z.read(fname).decode('utf8')\n",
    "        label, idx = fname[5:-4].split('-', 1)\n",
    "        data.append((idx,label,content,))\n",
    "df_train = pd.DataFrame(data, columns=(\"id\", \"label\", \"content\"))\n",
    "df_train.sample(10)"
   ]
  },
  {
   "cell_type": "code",
   "execution_count": 4,
   "metadata": {},
   "outputs": [
    {
     "data": {
      "text/html": [
       "<div>\n",
       "<style scoped>\n",
       "    .dataframe tbody tr th:only-of-type {\n",
       "        vertical-align: middle;\n",
       "    }\n",
       "\n",
       "    .dataframe tbody tr th {\n",
       "        vertical-align: top;\n",
       "    }\n",
       "\n",
       "    .dataframe thead th {\n",
       "        text-align: right;\n",
       "    }\n",
       "</style>\n",
       "<table border=\"1\" class=\"dataframe\">\n",
       "  <thead>\n",
       "    <tr style=\"text-align: right;\">\n",
       "      <th></th>\n",
       "      <th>id</th>\n",
       "      <th>content</th>\n",
       "    </tr>\n",
       "  </thead>\n",
       "  <tbody>\n",
       "    <tr>\n",
       "      <th>489</th>\n",
       "      <td>08438</td>\n",
       "      <td>\\n\\n\\n  \\n\\n\\nExhibit 10.2\\n\\nEXECUTION COPY...</td>\n",
       "    </tr>\n",
       "    <tr>\n",
       "      <th>658</th>\n",
       "      <td>38799</td>\n",
       "      <td>* * *\\n\\n* * *\\n\\nEXHIBIT 99.3\\n\\n\\n\\n  \\n\\n\\n...</td>\n",
       "    </tr>\n",
       "    <tr>\n",
       "      <th>798</th>\n",
       "      <td>20272</td>\n",
       "      <td>Exhibit 10.3\\n\\nTHE ALLSTATE CORPORATION\\n\\n20...</td>\n",
       "    </tr>\n",
       "    <tr>\n",
       "      <th>437</th>\n",
       "      <td>05916</td>\n",
       "      <td>EXHIBIT 10.19 \\n\\n\\n\\nbetween \\n\\nPEAK INTERNA...</td>\n",
       "    </tr>\n",
       "    <tr>\n",
       "      <th>788</th>\n",
       "      <td>33757</td>\n",
       "      <td>Exhibit 10.1\\n\\n\\n\\nPURSUANT TO THE \\n\\nAMENDE...</td>\n",
       "    </tr>\n",
       "    <tr>\n",
       "      <th>632</th>\n",
       "      <td>38411</td>\n",
       "      <td>Exhibit 10.2 \\n\\n\\n\\nThis Registration Rights ...</td>\n",
       "    </tr>\n",
       "    <tr>\n",
       "      <th>94</th>\n",
       "      <td>19981</td>\n",
       "      <td>Exhibit 99.1 \\n\\nFOUNDATION COAL HOLDINGS, INC...</td>\n",
       "    </tr>\n",
       "    <tr>\n",
       "      <th>791</th>\n",
       "      <td>22115</td>\n",
       "      <td>Exhibit 10.6 \\n\\nSERITAGE GROWTH PROPERTIES \\n...</td>\n",
       "    </tr>\n",
       "    <tr>\n",
       "      <th>64</th>\n",
       "      <td>08731</td>\n",
       "      <td>\\n\\n\\n\\n\\nTHIS AGREEMENT is made the 7th day...</td>\n",
       "    </tr>\n",
       "    <tr>\n",
       "      <th>136</th>\n",
       "      <td>38219</td>\n",
       "      <td>\\n\\n\\n\\n\\nTHIS REGISTRATION RIGHTS AGREEMENT...</td>\n",
       "    </tr>\n",
       "  </tbody>\n",
       "</table>\n",
       "</div>"
      ],
      "text/plain": [
       "        id                                            content\n",
       "489  08438    \\n\\n\\n  \\n\\n\\nExhibit 10.2\\n\\nEXECUTION COPY...\n",
       "658  38799  * * *\\n\\n* * *\\n\\nEXHIBIT 99.3\\n\\n\\n\\n  \\n\\n\\n...\n",
       "798  20272  Exhibit 10.3\\n\\nTHE ALLSTATE CORPORATION\\n\\n20...\n",
       "437  05916  EXHIBIT 10.19 \\n\\n\\n\\nbetween \\n\\nPEAK INTERNA...\n",
       "788  33757  Exhibit 10.1\\n\\n\\n\\nPURSUANT TO THE \\n\\nAMENDE...\n",
       "632  38411  Exhibit 10.2 \\n\\n\\n\\nThis Registration Rights ...\n",
       "94   19981  Exhibit 99.1 \\n\\nFOUNDATION COAL HOLDINGS, INC...\n",
       "791  22115  Exhibit 10.6 \\n\\nSERITAGE GROWTH PROPERTIES \\n...\n",
       "64   08731    \\n\\n\\n\\n\\nTHIS AGREEMENT is made the 7th day...\n",
       "136  38219    \\n\\n\\n\\n\\nTHIS REGISTRATION RIGHTS AGREEMENT..."
      ]
     },
     "execution_count": 4,
     "metadata": {},
     "output_type": "execute_result"
    }
   ],
   "source": [
    "data = []\n",
    "with ZipFile(\"../data/test_data.zip\") as z:\n",
    "    for fname in z.namelist():\n",
    "        content = z.read(fname).decode('utf8')\n",
    "        if not fname.endswith('.txt') or not fname.startswith('test'):\n",
    "            continue\n",
    "        idx = fname[5:-4]\n",
    "        data.append((idx,content,))\n",
    "df_test = pd.DataFrame(data, columns=(\"id\", \"content\"))\n",
    "df_test.sample(10)"
   ]
  },
  {
   "cell_type": "markdown",
   "metadata": {},
   "source": [
    "# Plot distribution of labels"
   ]
  },
  {
   "cell_type": "code",
   "execution_count": 5,
   "metadata": {},
   "outputs": [
    {
     "data": {
      "text/plain": [
       "<AxesSubplot:>"
      ]
     },
     "execution_count": 5,
     "metadata": {},
     "output_type": "execute_result"
    },
    {
     "data": {
      "image/png": "[encoded data removed]",
      "text/plain": [
       "<Figure size 432x288 with 1 Axes>"
      ]
     },
     "metadata": {
      "needs_background": "light"
     },
     "output_type": "display_data"
    }
   ],
   "source": [
    "df_train[\"label\"].hist()"
   ]
  },
  {
   "cell_type": "markdown",
   "metadata": {},
   "source": [
    "# Submit\n",
    "## Sample submission 1: \"All RSU\""
   ]
  },
  {
   "cell_type": "code",
   "execution_count": 6,
   "metadata": {},
   "outputs": [
    {
     "data": {
      "text/plain": [
       "0.46958637469586"
      ]
     },
     "execution_count": 6,
     "metadata": {},
     "output_type": "execute_result"
    }
   ],
   "source": [
    "# for all documents\n",
    "df_test[\"label\"] = \"rsu\"\n",
    "submission = dict(df_test[[\"id\",\"label\"]].values)"
   ]
  },
  {
   "cell_type": "code",
   "execution_count": 11,
   "metadata": {},
   "outputs": [
    {
     "data": {
      "text/plain": [
       "0.65085158150852"
      ]
     },
     "execution_count": 11,
     "metadata": {},
     "output_type": "execute_result"
    }
   ],
   "source": [
    "df_test[\"label\"] = \"rsu\"\n",
    "df_test.loc[df_test[\"content\"].str.contains(\"EMPLOYMENT\"),\"label\"] = 'employment'\n",
    "df_test.loc[df_test[\"content\"].str.contains(\"CREDIT\"),\"label\"] = 'credit'\n",
    "df_test.loc[df_test[\"content\"].str.contains(\"BYLAWS\"),\"label\"] = 'bylaws'\n",
    "df_test.loc[df_test[\"content\"].str.contains(\"REGISTRAR\"),\"label\"] = 'rra'\n",
    "submission = dict(df_test[[\"id\",\"label\"]].values)"
   ]
  }
 ],
 "metadata": {
  "kernelspec": {
   "display_name": "Python 3",
   "language": "python",
   "name": "python3"
  },
  "language_info": {
   "codemirror_mode": {
    "name": "ipython",
    "version": 3
   },
   "file_extension": ".py",
   "mimetype": "text/x-python",
   "name": "python",
   "nbconvert_exporter": "python",
   "pygments_lexer": "ipython3",
   "version": "3.8.5"
  }
 },
 "nbformat": 4,
 "nbformat_minor": 4
}